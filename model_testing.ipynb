{
 "cells": [
  {
   "cell_type": "code",
   "execution_count": 71,
   "metadata": {},
   "outputs": [],
   "source": [
    "import matplotlib.pyplot as plot\n",
    "import numpy as np\n",
    "\n",
    "from scipy.io import loadmat\n",
    "\n",
    "import training\n",
    "from training import Linear"
   ]
  },
  {
   "cell_type": "code",
   "execution_count": 72,
   "metadata": {},
   "outputs": [],
   "source": [
    "mnist = loadmat(r\"input\\mnist-original.mat\")\n",
    "test_data = (mnist[\"data\"].T) / 256\n",
    "test_labels = training.y2indicator(mnist[\"label\"][0])"
   ]
  },
  {
   "cell_type": "code",
   "execution_count": 73,
   "metadata": {},
   "outputs": [],
   "source": [
    "input_length = 784\n",
    "hidden_layer_length = 50\n",
    "output_length = 10\n",
    "\n",
    "model = Linear(hidden_layer_length,input_length,output_length)\n",
    "model.load_model(\"weights and biases\\M=50\")"
   ]
  },
  {
   "cell_type": "code",
   "execution_count": null,
   "metadata": {},
   "outputs": [],
   "source": [
    "confusion_matrix = training.gen_confusion_matrix(model, test_data, test_labels)\n",
    "training.plot_confusion_matrix(confusion_matrix)"
   ]
  },
  {
   "cell_type": "code",
   "execution_count": 89,
   "metadata": {},
   "outputs": [
    {
     "name": "stdout",
     "output_type": "stream",
     "text": [
      "[0, 1, 2, 3, 4, 5, 6, 7, 8, 9]\n",
      "[0. 0. 0. 0. 0. 0. 1. 0. 0. 0.]\n"
     ]
    },
    {
     "data": {
      "image/png": "[encoded data removed]",
      "text/plain": [
       "<Figure size 432x288 with 1 Axes>"
      ]
     },
     "metadata": {
      "needs_background": "light"
     },
     "output_type": "display_data"
    }
   ],
   "source": [
    "j = np.random.randint(1, len(test_data))\n",
    "#print(model.model_test(test_data[j]))\n",
    "plot.imshow(training.nest_list(test_data[j], 28, 28))\n",
    "print([0,1,2,3,4,5,6,7,8,9])\n",
    "print(test_labels[j])\n",
    "plot.show()"
   ]
  },
  {
   "cell_type": "code",
   "execution_count": null,
   "metadata": {},
   "outputs": [],
   "source": []
  }
 ],
 "metadata": {
  "kernelspec": {
   "display_name": "Python 3",
   "language": "python",
   "name": "python3"
  },
  "language_info": {
   "codemirror_mode": {
    "name": "ipython",
    "version": 3
   },
   "file_extension": ".py",
   "mimetype": "text/x-python",
   "name": "python",
   "nbconvert_exporter": "python",
   "pygments_lexer": "ipython3",
   "version": "3.10.5"
  },
  "orig_nbformat": 4,
  "vscode": {
   "interpreter": {
    "hash": "410f8b86f18a82333c3b8f421e5452a62e5dbbcd542d0c16ccd919808acb801f"
   }
  }
 },
 "nbformat": 4,
 "nbformat_minor": 2
}
